{
 "cells": [
  {
   "cell_type": "code",
   "execution_count": 15,
   "metadata": {},
   "outputs": [
    {
     "data": {
      "text/plain": [
       "'1 and occurs 4 times'"
      ]
     },
     "execution_count": 15,
     "metadata": {},
     "output_type": "execute_result"
    }
   ],
   "source": [
    "#Question 1\n",
    "arr = [2,1,3,4,1,1,4,2,1]\n",
    "def count_max(arr):\n",
    "    num = -1\n",
    "    count = 1\n",
    "    arr.sort()\n",
    "    for i in range(1,len(arr)):\n",
    "        if(arr[i]==arr[i-1]):\n",
    "            num=arr[i]\n",
    "            count+=1\n",
    "        else:\n",
    "            break\n",
    "    return f\"{num} and occurs {count} times\"\n",
    "count_max(arr)"
   ]
  },
  {
   "cell_type": "code",
   "execution_count": 18,
   "metadata": {},
   "outputs": [
    {
     "data": {
      "text/plain": [
       "6"
      ]
     },
     "execution_count": 18,
     "metadata": {},
     "output_type": "execute_result"
    }
   ],
   "source": [
    "#Question 2\n",
    "arr = [1,2,4,5,3,7,8]\n",
    "def find(arr):\n",
    "    arr.sort()\n",
    "    for i in range(len(arr)):\n",
    "        if(arr[i]==(i+1)):\n",
    "            pass\n",
    "        else:\n",
    "            return i+1\n",
    "find(arr)"
   ]
  },
  {
   "cell_type": "code",
   "execution_count": 2,
   "metadata": {},
   "outputs": [
    {
     "data": {
      "text/plain": [
       "3"
      ]
     },
     "execution_count": 2,
     "metadata": {},
     "output_type": "execute_result"
    }
   ],
   "source": [
    "#Question 3\n",
    "def OddOccur(arr):\n",
    "    res = 0\n",
    "    for element in arr:\n",
    "        res = res ^ element\n",
    "    return res\n",
    "\n",
    "# Test array\n",
    "arr = [2, 3, 5, 4, 5, 2,4]\n",
    "OddOccur(arr)\n"
   ]
  },
  {
   "cell_type": "code",
   "execution_count": 11,
   "metadata": {},
   "outputs": [
    {
     "name": "stdout",
     "output_type": "stream",
     "text": [
      "1 and 6\n",
      "2 and 5\n"
     ]
    }
   ],
   "source": [
    "#Question 4\n",
    "target = 4\n",
    "arr = [5,3,2,4,6,2,1]\n",
    "def SumEqualToK(arr, target):\n",
    "    for i in range(len(arr)):\n",
    "        for j in range(i+1,len(arr)):\n",
    "            if((arr[i]+arr[j])==target):\n",
    "                print(f\"{i} and {j}\")\n",
    "SumEqualToK(arr,target)"
   ]
  },
  {
   "cell_type": "code",
   "execution_count": 20,
   "metadata": {},
   "outputs": [
    {
     "data": {
      "text/plain": [
       "5"
      ]
     },
     "execution_count": 20,
     "metadata": {},
     "output_type": "execute_result"
    }
   ],
   "source": [
    "#Question 5\n",
    "arr = [ 1 ,60 ,-10, 70, -80,85]\n",
    "def SumClosestTo0(arr):\n",
    "    min=10000000000\n",
    "    for i in range(len(arr)):\n",
    "        for j in range(i+1,len(arr)):\n",
    "            sum = arr[i]+arr[j]\n",
    "            if(abs(sum)<abs(min)):\n",
    "                min = sum\n",
    "    return min\n",
    "                \n",
    "SumClosestTo0(arr)"
   ]
  },
  {
   "cell_type": "code",
   "execution_count": 34,
   "metadata": {},
   "outputs": [
    {
     "name": "stdout",
     "output_type": "stream",
     "text": [
      "4 ,  8 ,  10\n"
     ]
    }
   ],
   "source": [
    "#Question 6\n",
    "\n",
    "def findnum(A, arr_size, sum):\n",
    "\tA.sort() \n",
    "\tfor i in range(0, arr_size-2):\n",
    "\t\tl = i + 1\n",
    "\t\tr = arr_size-1\n",
    "\t\twhile (l < r):\n",
    "\t\t\n",
    "\t\t\tif( A[i] + A[l] + A[r] == sum):\n",
    "\t\t\t\tprint( A[i], \n",
    "\t\t\t\t\t', ', A[l], ', ', A[r])\n",
    "\t\t\t\tbreak\n",
    "\t\t\t\n",
    "\t\t\telif (A[i] + A[l] + A[r] < sum):\n",
    "\t\t\t\tl += 1\n",
    "\t\t\telse: \n",
    "\t\t\t\tr -= 1\n",
    "arr = [1, 4, 45, 6, 10, 8]\n",
    "sum = 22\n",
    "arr_size = len(arr)\n",
    "\n",
    "findnum(arr, arr_size, sum)\n",
    "\n",
    "\n"
   ]
  },
  {
   "cell_type": "code",
   "execution_count": 42,
   "metadata": {},
   "outputs": [
    {
     "data": {
      "text/plain": [
       "(3, 4, 5)"
      ]
     },
     "execution_count": 42,
     "metadata": {},
     "output_type": "execute_result"
    }
   ],
   "source": [
    "#Question 7\n",
    "def find_triplet(arr):\n",
    "    arr.sort()\n",
    "    n = len(arr)\n",
    "    for k in range(n-1, 1, -1):\n",
    "        c = arr[k] ** 2\n",
    "        i = 0\n",
    "        j = k - 1\n",
    "        while i < j:\n",
    "            a = arr[i] ** 2\n",
    "            b = arr[j] ** 2\n",
    "            if a + b == c:\n",
    "                return arr[i], arr[j], arr[k]\n",
    "            elif a + b < c:\n",
    "                i += 1\n",
    "            else:\n",
    "                j -= 1\n",
    "\n",
    "\n",
    "\n",
    "arr = [3, 1, 4, 6, 5]\n",
    "result = find_triplet(arr)\n",
    "result\n"
   ]
  },
  {
   "cell_type": "code",
   "execution_count": 43,
   "metadata": {},
   "outputs": [
    {
     "data": {
      "text/plain": [
       "2"
      ]
     },
     "execution_count": 43,
     "metadata": {},
     "output_type": "execute_result"
    }
   ],
   "source": [
    "#Question 8\n",
    "def moores_voting_algorithm(arr):\n",
    "    n = len(arr)\n",
    "    \n",
    "    # Step 1: Find a candidate\n",
    "    candidate = None\n",
    "    count = 0\n",
    "    \n",
    "    for num in arr:\n",
    "        if count == 0:\n",
    "            candidate = num\n",
    "            count = 1\n",
    "        elif num == candidate:\n",
    "            count += 1\n",
    "        else:\n",
    "            count -= 1\n",
    "    \n",
    "    count = 0\n",
    "    for num in arr:\n",
    "        if num == candidate:\n",
    "            count += 1\n",
    "    \n",
    "    if count > n // 2:\n",
    "        return candidate\n",
    "\n",
    "arr = [2, 2, 1, 1, 1, 2, 2]\n",
    "result = moores_voting_algorithm(arr)\n",
    "result\n"
   ]
  },
  {
   "cell_type": "code",
   "execution_count": 44,
   "metadata": {},
   "outputs": [
    {
     "data": {
      "text/plain": [
       "[0, 0, 0, 0, 0, 1, 1, 1, 1, 1, 2, 2]"
      ]
     },
     "execution_count": 44,
     "metadata": {},
     "output_type": "execute_result"
    }
   ],
   "source": [
    "#Question 10\n",
    "def dutch_national_flag(arr):\n",
    "    low = 0\n",
    "    mid = 0\n",
    "    high = len(arr) - 1\n",
    "\n",
    "    while mid <= high:\n",
    "        if arr[mid] == 0:\n",
    "            arr[low], arr[mid] = arr[mid], arr[low]\n",
    "            low += 1\n",
    "            mid += 1\n",
    "        elif arr[mid] == 1:\n",
    "            mid += 1\n",
    "        else:\n",
    "            arr[high], arr[mid] = arr[mid], arr[high]\n",
    "            high -= 1\n",
    "\n",
    "    return arr\n",
    "arr = [0, 1, 1, 0, 1, 2, 1, 2, 0, 0, 0, 1]\n",
    "sorted_arr = dutch_national_flag(arr)\n",
    "sorted_arr\n"
   ]
  },
  {
   "cell_type": "code",
   "execution_count": null,
   "metadata": {},
   "outputs": [],
   "source": []
  }
 ],
 "metadata": {
  "kernelspec": {
   "display_name": "Python 3 (ipykernel)",
   "language": "python",
   "name": "python3"
  },
  "language_info": {
   "codemirror_mode": {
    "name": "ipython",
    "version": 3
   },
   "file_extension": ".py",
   "mimetype": "text/x-python",
   "name": "python",
   "nbconvert_exporter": "python",
   "pygments_lexer": "ipython3",
   "version": "3.12.2"
  }
 },
 "nbformat": 4,
 "nbformat_minor": 4
}
